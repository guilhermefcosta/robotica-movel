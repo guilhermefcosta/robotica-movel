{
  "nbformat": 4,
  "nbformat_minor": 0,
  "metadata": {
    "colab": {
      "name": "Descrição-espacial.ipynb",
      "provenance": [],
      "collapsed_sections": [],
      "authorship_tag": "ABX9TyMGxq18er1rkfWJB0QfX9uU"
    },
    "kernelspec": {
      "name": "python3",
      "display_name": "Python 3"
    },
    "language_info": {
      "name": "python"
    }
  },
  "cells": [
    {
      "cell_type": "markdown",
      "metadata": {
        "id": "xjsMYWscwgIQ"
      },
      "source": [
        "## Representação"
      ]
    },
    {
      "cell_type": "code",
      "metadata": {
        "colab": {
          "base_uri": "https://localhost:8080/",
          "height": 219
        },
        "id": "HV6A-I8hwLM5",
        "outputId": "ea8b8779-314a-4728-8fb1-b45a28c85057"
      },
      "source": [
        "import numpy as np\n",
        "import matplotlib.pyplot as plt\n",
        "\n",
        "\n",
        "# Definindo pois pontos (vetores)\n",
        "# Lembrando que os valores representam as componentes\n",
        "p = np.array([1, 2])\n",
        "q = np.array([4, 3])\n",
        "\n",
        "# Origem\n",
        "origin = np.array([0, 0])\n",
        "\n",
        "# Plotando os pontos e a representação vetorial\n",
        "plt.figure()\n",
        "plt.plot(p[0], p[1], 'ro')\n",
        "plt.quiver(*origin, *p, color='r', angles='xy', scale_units='xy', scale=1)\n",
        "\n",
        "plt.plot(q[0], q[1], 'bo')\n",
        "plt.quiver(*origin, *q, color='b', angles='xy', scale_units='xy', scale=1)\n",
        "\n",
        "plt.axis('scaled')\n",
        "plt.axis((0, 10, 0, 5))\n",
        "plt.show()\n"
      ],
      "execution_count": null,
      "outputs": [
        {
          "output_type": "display_data",
          "data": {
            "image/png": "[encoded data removed]",
            "text/plain": [
              "<Figure size 432x288 with 1 Axes>"
            ]
          },
          "metadata": {
            "needs_background": "light"
          }
        }
      ]
    },
    {
      "cell_type": "markdown",
      "metadata": {
        "id": "bswoGDXY0M9p"
      },
      "source": [
        "## Direção"
      ]
    },
    {
      "cell_type": "code",
      "metadata": {
        "colab": {
          "base_uri": "https://localhost:8080/",
          "height": 354
        },
        "id": "O18SKVFZ0P3i",
        "outputId": "fdbf92a4-cc82-4c8b-acd3-cf0686fd8bb5"
      },
      "source": [
        "v = q - p\n",
        "print(v)\n",
        "\n",
        "# Norma (magnitude)\n",
        "m = np.linalg.norm(v)\n",
        "print(m)\n",
        "\n",
        "# Orientação\n",
        "a = np.arctan2(v[1], v[0])\n",
        "print(a)\n",
        "\n",
        "# Vetor unitário (direção)\n",
        "u = v / m\n",
        "print(u)\n",
        "\n",
        "\n",
        "plt.figure()\n",
        "plt.plot(p[0], p[1], 'ro')\n",
        "plt.plot(q[0], q[1], 'bo')\n",
        "\n",
        "# Plotando o vetor deslocamento\n",
        "plt.quiver(*p, *v, color='g', angles='xy', scale_units='xy', scale=1)\n",
        "\n",
        "# Plotando o vetor direção\n",
        "plt.quiver(*p, *u, color='r', angles='xy', scale_units='xy', scale=1)\n",
        "\n",
        "plt.axis('scaled')\n",
        "plt.axis((0, 5, 0, 5))"
      ],
      "execution_count": null,
      "outputs": [
        {
          "output_type": "stream",
          "name": "stdout",
          "text": [
            "[3 1]\n",
            "3.1622776601683795\n",
            "0.3217505543966422\n",
            "[0.9486833  0.31622777]\n"
          ]
        },
        {
          "output_type": "execute_result",
          "data": {
            "text/plain": [
              "(0.0, 5.0, 0.0, 5.0)"
            ]
          },
          "metadata": {},
          "execution_count": 11
        },
        {
          "output_type": "display_data",
          "data": {
            "image/png": "[encoded data removed]",
            "text/plain": [
              "<Figure size 432x288 with 1 Axes>"
            ]
          },
          "metadata": {
            "needs_background": "light"
          }
        }
      ]
    },
    {
      "cell_type": "markdown",
      "metadata": {
        "id": "F_bsCixt1ecO"
      },
      "source": [
        "\n",
        "## Referencial"
      ]
    },
    {
      "cell_type": "code",
      "metadata": {
        "colab": {
          "base_uri": "https://localhost:8080/",
          "height": 456
        },
        "id": "rHqJdkHu21bY",
        "outputId": "038bf923-a690-4b07-b806-07f4aa9da916"
      },
      "source": [
        "# Matriz de rotação em relação a Z\n",
        "def Rz(theta):\n",
        "    return np.array([[ np.cos(theta), -np.sin(theta), 0 ],\n",
        "                      [ np.sin(theta), np.cos(theta) , 0 ],\n",
        "                      [ 0            , 0             , 1 ]])\n",
        "\n",
        "\n",
        "\n",
        "# Plota um referencial no plano\n",
        "def plot_frame(Porg, R, c=None):\n",
        "    \n",
        "    axis_size = 1.0    \n",
        "    axes = axis_size*R\n",
        "\n",
        "    print(\"axes = \", axes)\n",
        "    \n",
        "  \n",
        "    x_axis = np.array(axes[0:2,0])\n",
        "    y_axis = np.array(axes[0:2,1])\n",
        "\n",
        "    print(\"x_axis = \", x_axis)\n",
        "    print(\"y_axis = \", y_axis)\n",
        "\n",
        "    if c == None:\n",
        "        c = ['r', 'g']\n",
        "    \n",
        "    # X\n",
        "    plt.quiver(*Porg[0:2], *x_axis, color=c[0], angles='xy', scale_units='xy', scale=1)\n",
        "    \n",
        "    # Y\n",
        "    plt.quiver(*Porg[0:2], *y_axis, color=c[1], angles='xy', scale_units='xy', scale=1)\n",
        "    \n",
        " \n",
        "plt.figure()\n",
        "\n",
        "# Frame A\n",
        "Porg = np.array([2, 1, 0])    \n",
        "R = Rz(np.deg2rad(45))\n",
        "plot_frame(Porg, R)\n",
        "\n",
        "# Frame B\n",
        "Porg = np.array([3, 3, 0])    \n",
        "R = Rz(np.deg2rad(0))\n",
        "plot_frame(Porg, R)\n",
        "\n",
        "plt.axis('scaled')\n",
        "plt.axis((0, 5, 0, 5))"
      ],
      "execution_count": null,
      "outputs": [
        {
          "output_type": "stream",
          "name": "stdout",
          "text": [
            "axes =  [[ 0.70710678 -0.70710678  0.        ]\n",
            " [ 0.70710678  0.70710678  0.        ]\n",
            " [ 0.          0.          1.        ]]\n",
            "x_axis =  [0.70710678 0.70710678]\n",
            "y_axis =  [-0.70710678  0.70710678]\n",
            "axes =  [[ 1. -0.  0.]\n",
            " [ 0.  1.  0.]\n",
            " [ 0.  0.  1.]]\n",
            "x_axis =  [1. 0.]\n",
            "y_axis =  [-0.  1.]\n"
          ]
        },
        {
          "output_type": "execute_result",
          "data": {
            "text/plain": [
              "(0.0, 5.0, 0.0, 5.0)"
            ]
          },
          "metadata": {},
          "execution_count": 15
        },
        {
          "output_type": "display_data",
          "data": {
            "image/png": "[encoded data removed]",
            "text/plain": [
              "<Figure size 432x288 with 1 Axes>"
            ]
          },
          "metadata": {
            "needs_background": "light"
          }
        }
      ]
    },
    {
      "cell_type": "markdown",
      "metadata": {
        "id": "NkeDf1o35jGQ"
      },
      "source": [
        "# Mapeamento\n",
        "\n",
        "## Translação\n"
      ]
    },
    {
      "cell_type": "code",
      "metadata": {
        "colab": {
          "base_uri": "https://localhost:8080/"
        },
        "id": "xZgK72V_5jjk",
        "outputId": "b3cdca5b-2559-42ec-e47f-3774467de6a6"
      },
      "source": [
        "# ponto do objeto p na coordenada b\n",
        "pb = np.array([4, 3, 5])\n",
        "\n",
        "#origem da coordenada \"b\" em relação a \"a\"\n",
        "pa_borg = np.array([7, 2, 0])\n",
        "\n",
        "#ponto do objeto \"p\" em realacao a \"a\"\n",
        "pa = pb + pa_borg # como só temos transalaçao, basta fazer a soma da origem com o ponto p em relacao a b\n",
        "print(pa)\n"
      ],
      "execution_count": null,
      "outputs": [
        {
          "output_type": "stream",
          "name": "stdout",
          "text": [
            "[11  5  5]\n"
          ]
        }
      ]
    },
    {
      "cell_type": "markdown",
      "metadata": {
        "id": "6FKx17S05qXs"
      },
      "source": [
        "## Rotação"
      ]
    },
    {
      "cell_type": "code",
      "metadata": {
        "colab": {
          "base_uri": "https://localhost:8080/"
        },
        "id": "dZyqHn355s5w",
        "outputId": "a62e6596-3157-427b-ad5c-2e1d422e3e2e"
      },
      "source": [
        "# sistema sobrepondo o eixo A, apenas com uma rotação\n",
        "\n",
        "pb = np.array([0, 2, 0])\n",
        "\n",
        "# rotacao de 30 graus\n",
        "theta = np.deg2rad(30)\n",
        "\n",
        "# Qual operador de multiplicação utilizar?\n",
        "# https://blog.finxter.com/numpy-matmul-operator/\n",
        "\n",
        "pa = Rz(theta).dot(pb)\n",
        "print(pa)\n",
        "\n",
        "pa = np.matmul(Rz(theta), pb)\n",
        "print(pa)\n",
        "\n",
        "# multiplicacao mais compacta quando\n",
        "# houver mais multiplicacoes\n",
        "\n",
        "# Temos a matriz de relação B em A\n",
        "pa = Rz(theta) @ pb\n",
        "\n",
        "#pa é o objeto p no sistema A\n",
        "print(pa)"
      ],
      "execution_count": null,
      "outputs": [
        {
          "output_type": "stream",
          "name": "stdout",
          "text": [
            "[-1.          1.73205081  0.        ]\n",
            "[-1.          1.73205081  0.        ]\n",
            "[-1.          1.73205081  0.        ]\n"
          ]
        }
      ]
    },
    {
      "cell_type": "markdown",
      "metadata": {
        "id": "ge5b4QYwAO75"
      },
      "source": [
        "Ângulos de Euler:"
      ]
    },
    {
      "cell_type": "code",
      "metadata": {
        "colab": {
          "base_uri": "https://localhost:8080/"
        },
        "id": "ZhhYdmCcAVMm",
        "outputId": "1343ab8f-aaed-477c-d69b-47e4c7f8e052"
      },
      "source": [
        "def Rx(theta):\n",
        " \n",
        "    return np.array([[  1, 0            , 0           ],\n",
        "                      [ 0, np.cos(theta),-np.sin(theta)],\n",
        "                      [ 0, np.sin(theta), np.cos(theta)]])\n",
        "  \n",
        "def Ry(theta):\n",
        " \n",
        "    return np.array([[  np.cos(theta), 0, np.sin(theta)],\n",
        "                      [ 0            , 1, 0           ],\n",
        "                      [-np.sin(theta), 0, np.cos(theta)]])\n",
        "\n",
        "\n",
        "alpha = np.pi/2\n",
        "beta = np.pi/4\n",
        "gamma = np.pi/3\n",
        "\n",
        "R = Rz(alpha) @ Ry(beta) @ Rx(gamma)\n",
        "print(R)\n",
        "\n",
        "cB = np.sqrt(R[0,0]**2 + R[1,0]**2)\n",
        "\n",
        "# Obtendo os Euler Angles a partir da matriz\n",
        "beta_calc = np.arctan2(-R[2,0], cB)\n",
        "alpha_calc = np.arctan2(R[1,0]/cB, R[0,0]/cB)\n",
        "gamma_calc = np.arctan2(R[2,1]/cB, R[2,2]/cB)\n",
        "\n",
        "# Achamos os angulos novamente, ou seja, conseguimos retornar os angulos de rotacao\n",
        "# dos sistemas de coordenadas(aonde determindado objeto aponta, por exemplo)\n",
        "print(alpha, alpha_calc)\n",
        "print(beta, beta_calc)\n",
        "print(gamma, gamma_calc)"
      ],
      "execution_count": null,
      "outputs": [
        {
          "output_type": "stream",
          "name": "stdout",
          "text": [
            "[[ 4.32978028e-17 -5.00000000e-01  8.66025404e-01]\n",
            " [ 7.07106781e-01  6.12372436e-01  3.53553391e-01]\n",
            " [-7.07106781e-01  6.12372436e-01  3.53553391e-01]]\n",
            "1.5707963267948966 1.5707963267948966\n",
            "0.7853981633974483 0.7853981633974483\n",
            "1.0471975511965976 1.0471975511965976\n"
          ]
        }
      ]
    },
    {
      "cell_type": "markdown",
      "metadata": {
        "id": "bNPmybW0A-WY"
      },
      "source": [
        "#Translação + Rotação"
      ]
    },
    {
      "cell_type": "code",
      "metadata": {
        "colab": {
          "base_uri": "https://localhost:8080/",
          "height": 473
        },
        "id": "RXsVqQLUA_sX",
        "outputId": "d721be09-af9f-4d6f-d43e-8b29b215264c"
      },
      "source": [
        "# Objeto p em relacao a B\n",
        "pb = np.array([3, 7, 0])\n",
        "\n",
        "# Origem de B\n",
        "pa_borg = np.array([10, 5, 0])\n",
        "\n",
        "# Grau de rotacao\n",
        "theta = np.deg2rad(30)\n",
        "\n",
        "# Tranformações rígidas\n",
        "pa = Rz(theta) @ pb + pa_borg\n",
        "\n",
        "# p em relacao a A\n",
        "print(pa)\n",
        "\n",
        "\n",
        "# DESENHANDO\n",
        "plt.figure()\n",
        "\n",
        "plt.plot(pa[0], pa[1], 'ro')\n",
        "pb_em_b = pb + pa_borg\n",
        "plt.plot(pb_em_b[0], pb_em_b[1], 'go')\n",
        "\n",
        "# Frame A\n",
        "a_origin = np.array([0, 0, 0])\n",
        "Porg = np.array(a_origin)    \n",
        "R = Rz(np.deg2rad(0))\n",
        "plot_frame(Porg, R)\n",
        "\n",
        "# Frame B\n",
        "Porg = pa_borg     \n",
        "R = Rz(theta)\n",
        "plot_frame(Porg, R)\n",
        "\n",
        "# plt.axis('scaled')\n",
        "plt.axis((-5, 15, -5, 15))\n",
        "\n",
        "# p em relacao a b \n",
        "plt.quiver(*pa_borg[0:2], *pb[0:2], color='r', angles='xy', scale_units='xy', scale=1)\n",
        "\n",
        "# p em relacao a a \n",
        "plt.quiver(*a_origin[0:2], *pa[0:2], color='g', angles='xy', scale_units='xy', scale=1)\n"
      ],
      "execution_count": 54,
      "outputs": [
        {
          "output_type": "stream",
          "name": "stdout",
          "text": [
            "[ 9.09807621 12.56217783  0.        ]\n",
            "axes =  [[ 1. -0.  0.]\n",
            " [ 0.  1.  0.]\n",
            " [ 0.  0.  1.]]\n",
            "x_axis =  [1. 0.]\n",
            "y_axis =  [-0.  1.]\n",
            "axes =  [[ 0.8660254 -0.5        0.       ]\n",
            " [ 0.5        0.8660254  0.       ]\n",
            " [ 0.         0.         1.       ]]\n",
            "x_axis =  [0.8660254 0.5      ]\n",
            "y_axis =  [-0.5        0.8660254]\n"
          ]
        },
        {
          "output_type": "execute_result",
          "data": {
            "text/plain": [
              "<matplotlib.quiver.Quiver at 0x7fac71da6d10>"
            ]
          },
          "metadata": {},
          "execution_count": 54
        },
        {
          "output_type": "display_data",
          "data": {
            "image/png": "[encoded data removed]",
            "text/plain": [
              "<Figure size 432x288 with 1 Axes>"
            ]
          },
          "metadata": {
            "needs_background": "light"
          }
        }
      ]
    }
  ]
}